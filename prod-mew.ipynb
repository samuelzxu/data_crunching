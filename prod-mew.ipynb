{
 "cells": [
  {
   "cell_type": "code",
   "execution_count": 2,
   "metadata": {},
   "outputs": [],
   "source": [
    "import json\n",
    "\n",
    "with open(\"data/legacy/legacy_prod_data.json\") as f:\n",
    "    data = json.load(f)\n"
   ]
  },
  {
   "cell_type": "code",
   "execution_count": 11,
   "metadata": {},
   "outputs": [
    {
     "name": "stderr",
     "output_type": "stream",
     "text": [
      "100%|██████████| 24031/24031 [00:00<00:00, 926536.93it/s]\n"
     ]
    }
   ],
   "source": [
    "from tqdm import tqdm\n",
    "\n",
    "userNameToCt = {}\n",
    "usersById = data['usersById']\n",
    "for nodeId, item in tqdm(data['nodesById'].items()):\n",
    "    user_name = usersById[authorId]['username']\n",
    "    authorId = item['authorId']\n",
    "    if user_name not in userNameToCt:\n",
    "        userNameToCt[user_name] = 0\n",
    "    userNameToCt[user_name] += 1"
   ]
  },
  {
   "cell_type": "code",
   "execution_count": 13,
   "metadata": {},
   "outputs": [
    {
     "data": {
      "text/plain": [
       "{'eden@ideaflow.io': 3122,\n",
       " 'support@ideaflow.io': 2710,\n",
       " 'jacob@ideaflow.io': 4936,\n",
       " 'apppublishing@ideaflow.io': 202,\n",
       " 'mathieu.roy.37@gmail.com': 224,\n",
       " 'chergenroeder135@gmail.com': 212,\n",
       " 'agu@ideaflow.io': 952,\n",
       " 'bmorphism@hey.com': 167,\n",
       " 'desotaelianna@gmail.com': 19,\n",
       " 'piyush@ideaflow.io': 37,\n",
       " 'adithya.sairam1@gmail.com': 176,\n",
       " 'alinagency@gmail.com': 22,\n",
       " 'cody@ideaflow.io': 385,\n",
       " 'krusher.kshp@gmail.com': 53,\n",
       " 'ridhi.kantelal@gmail.com': 106,\n",
       " 'thisishaoyu@gmail.com': 8,\n",
       " 'tmad4000@gmail.com': 121,\n",
       " 'taylor@ideaflow.io': 147,\n",
       " 'tazikshahjahan@gmail.com': 56,\n",
       " 'mrwendell@gmail.com': 27,\n",
       " 'rpc@ideaflow.io': 9802,\n",
       " 'blossominghearts@protonmail.com': 122,\n",
       " 'ng.nikkiguo@gmail.com': 2,\n",
       " 'saeejithn@gmail.com': 29,\n",
       " 'ejwalch@wisc.edu': 128,\n",
       " 'taylor.j.mitchell@gmail.com': 4,\n",
       " 'apppublishing+testing@ideaflow.io': 4,\n",
       " 'robibhatt@gmail.com': 4,\n",
       " 'ermeredith7@gmail.com': 1,\n",
       " 'montyngan36@gmail.com': 3,\n",
       " 'phil@ideaflow.io': 30,\n",
       " 'ideaflow.test.1@gmail.com': 4,\n",
       " 'slhodak@gmail.com': 2,\n",
       " 'calvinxu806@gmail.com': 52,\n",
       " 'jb@basehub.com': 13,\n",
       " 'samuelzxu@gmail.com': 1,\n",
       " 'slhodak@icloud.com': 11,\n",
       " '2014cremers@gmail.com': 43,\n",
       " 'zzxzzxsimon@gmail.com': 7,\n",
       " 'navid.pour@outlook.com': 1,\n",
       " 'edenchan717@gmail.com': 44,\n",
       " 'guoty3310@gmail.com': 2,\n",
       " 'piyushjha8164@gmail.com': 3,\n",
       " 'zkreutzjans@gmail.com': 1,\n",
       " 'calvin@ideaflow.io': 1,\n",
       " 'evan@ideaflow.io': 13,\n",
       " 'cody+1@ideaflow.io': 1,\n",
       " 'edisonquu@gmail.com': 1,\n",
       " 'joan.santiago.cabezas@gmail.com': 2,\n",
       " 'sohilathare1@gmail.com': 1,\n",
       " 'mnehaal@gmail.com': 1,\n",
       " 'samuel@ideaflow.io': 2,\n",
       " 'hodak@ideaflow.io': 1,\n",
       " 'aayushpokharel36@gmail.com': 9,\n",
       " 'agugalgui@gmail.com': 1,\n",
       " 'muttoncutlet@gmail.com': 2,\n",
       " 'akirayoshiyama1@gmail.com': 1}"
      ]
     },
     "execution_count": 13,
     "metadata": {},
     "output_type": "execute_result"
    }
   ],
   "source": [
    "userNameToCt"
   ]
  }
 ],
 "metadata": {
  "kernelspec": {
   "display_name": "ml-playground",
   "language": "python",
   "name": "python3"
  },
  "language_info": {
   "codemirror_mode": {
    "name": "ipython",
    "version": 3
   },
   "file_extension": ".py",
   "mimetype": "text/x-python",
   "name": "python",
   "nbconvert_exporter": "python",
   "pygments_lexer": "ipython3",
   "version": "3.10.13"
  }
 },
 "nbformat": 4,
 "nbformat_minor": 2
}
